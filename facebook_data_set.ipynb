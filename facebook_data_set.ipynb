{
 "cells": [
  {
   "cell_type": "code",
   "execution_count": 1,
   "metadata": {
    "collapsed": true
   },
   "outputs": [],
   "source": [
    "import numpy as np\n",
    "import matplotlib.pyplot as plt"
   ]
  },
  {
   "cell_type": "code",
   "execution_count": 83,
   "metadata": {},
   "outputs": [
    {
     "name": "stdout",
     "output_type": "stream",
     "text": [
      "<type 'numpy.ndarray'>\n",
      "(54, 4)\n",
      "[['mehul.chopra@neebal.com' '2015-03-01' '4:30' 'in']\n",
      " ['narendra.modi@yahoo.com' '2015-03-01' '4:35' 'in']\n",
      " ['katrina.kaif@gmail.com' '2015-03-01' '4:36' 'out']\n",
      " ['mehul.chopra@neebal.com' '2015-03-01' '4:45' 'out']\n",
      " ['narendra.modi@yahoo.com' '2015-03-01' '4:50' 'out']\n",
      " ['mehul.chopra@neebal.com' '2015-03-02' '5:30' 'out']\n",
      " ['mehul.chopra@neebal.com' '2015-03-02' '5:45' 'out']\n",
      " ['mehul.chopra@neebal.com' '2015-03-02' '6:00' 'in']\n",
      " ['mehul.chopra@neebal.com' '2015-03-02' '7:30' 'out']\n",
      " ['katrina.kaif@gmail.com' '2015-03-02' '18:00' 'out']\n",
      " ['narendra.modi@yahoo.com' '2015-03-03' '10:30' 'out']\n",
      " ['narendra.modi@yahoo.com' '2015-03-03' '10:45' 'out']\n",
      " ['katrina.kaif@gmail.com' '2015-03-03' '11:00' 'in']\n",
      " ['narendra.modi@yahoo.com' '2015-03-03' '11:30' 'out']\n",
      " ['mehul.chopra@neebal.com' '2015-03-03' '1:30' 'in']\n",
      " ['narendra.modi@yahoo.com' '2015-03-03' '2:30' 'out']\n",
      " ['katrina.kaif@gmail.com' '2015-03-03' '2:30' 'out']\n",
      " ['mehul.chopra@neebal.com' '2015-03-03' '2:45' 'out']\n",
      " ['mehul.chopra@neebal.com' '2015-03-01' '4:30' 'in']\n",
      " ['narendra.modi@yahoo.com' '2015-03-01' '4:35' 'in']\n",
      " ['katrina.kaif@gmail.com' '2015-03-01' '4:36' 'out']\n",
      " ['mehul.chopra@neebal.com' '2015-03-01' '4:45' 'out']\n",
      " ['narendra.modi@yahoo.com' '2015-03-01' '4:50' 'out']\n",
      " ['mehul.chopra@neebal.com' '2015-03-02' '5:30' 'out']\n",
      " ['mehul.chopra@neebal.com' '2015-03-02' '5:45' 'out']\n",
      " ['mehul.chopra@neebal.com' '2015-03-02' '6:00' 'in']\n",
      " ['mehul.chopra@neebal.com' '2015-03-02' '7:30' 'out']\n",
      " ['katrina.kaif@gmail.com' '2015-03-02' '18:00' 'out']\n",
      " ['narendra.modi@yahoo.com' '2015-03-03' '10:30' 'out']\n",
      " ['narendra.modi@yahoo.com' '2015-03-03' '10:45' 'out']\n",
      " ['katrina.kaif@gmail.com' '2015-03-03' '11:00' 'in']\n",
      " ['narendra.modi@yahoo.com' '2015-03-03' '11:30' 'out']\n",
      " ['mehul.chopra@neebal.com' '2015-03-03' '1:30' 'in']\n",
      " ['narendra.modi@yahoo.com' '2015-03-03' '2:30' 'out']\n",
      " ['katrina.kaif@gmail.com' '2015-03-03' '2:30' 'out']\n",
      " ['mehul.chopra@neebal.com' '2015-03-03' '2:45' 'out']\n",
      " ['mehul.chopra@neebal.com' '2015-03-01' '4:30' 'in']\n",
      " ['narendra.modi@yahoo.com' '2015-03-01' '4:35' 'in']\n",
      " ['katrina.kaif@gmail.com' '2015-03-01' '4:36' 'out']\n",
      " ['mehul.chopra@neebal.com' '2015-03-01' '4:45' 'out']\n",
      " ['narendra.modi@yahoo.com' '2015-03-01' '4:50' 'out']\n",
      " ['mehul.chopra@neebal.com' '2015-03-02' '5:30' 'out']\n",
      " ['mehul.chopra@neebal.com' '2015-03-02' '5:45' 'out']\n",
      " ['mehul.chopra@neebal.com' '2015-03-02' '6:00' 'in']\n",
      " ['mehul.chopra@neebal.com' '2015-03-02' '7:30' 'out']\n",
      " ['katrina.kaif@gmail.com' '2015-03-02' '18:00' 'out']\n",
      " ['narendra.modi@yahoo.com' '2015-03-03' '10:30' 'out']\n",
      " ['narendra.modi@yahoo.com' '2015-03-03' '10:45' 'out']\n",
      " ['katrina.kaif@gmail.com' '2015-03-03' '11:00' 'in']\n",
      " ['narendra.modi@yahoo.com' '2015-03-03' '11:30' 'out']\n",
      " ['mehul.chopra@neebal.com' '2015-03-03' '1:30' 'in']\n",
      " ['narendra.modi@yahoo.com' '2015-03-03' '2:30' 'out']\n",
      " ['katrina.kaif@gmail.com' '2015-03-03' '2:30' 'out']\n",
      " ['mehul.chopra@neebal.com' '2015-03-03' '2:45' 'out']]\n"
     ]
    }
   ],
   "source": [
    "data_path = '/home/sandip/code/GA/data_files/facebook_login_logout_logs'\n",
    "\n",
    "data = np.genfromtxt(data_path, delimiter=',', dtype=None)\n",
    "print type(data)\n",
    "print data.shape\n",
    "print data"
   ]
  },
  {
   "cell_type": "code",
   "execution_count": 84,
   "metadata": {},
   "outputs": [],
   "source": [
    "# print data[:4]\n",
    "# print '****** Needed Data *******'\n",
    "data1 = data[:, [0,3]]\n",
    "# print data1\n",
    "# print '****** Filter data for only out value *******'\n",
    "data2 = data1[data1[:,1] == 'out']\n",
    "# print data2\n",
    "# print '****** Get Email based unique values *******'\n",
    "emails, count = np.unique(data2[:,0], return_counts=True)\n",
    "# print emails\n",
    "# print count\n",
    "# print '****** Zip & make dictionary *******'\n",
    "result = dict(zip(emails, count))"
   ]
  },
  {
   "cell_type": "code",
   "execution_count": 91,
   "metadata": {},
   "outputs": [
    {
     "data": {
      "image/png": "[encoded data removed]",
      "text/plain": [
       "<matplotlib.figure.Figure at 0x7fdb69471d90>"
      ]
     },
     "metadata": {},
     "output_type": "display_data"
    }
   ],
   "source": [
    "plt.bar(range(len(result)), result.values())\n",
    "plt.xticks(range(len(result)), result.keys(), rotation=-90)\n",
    "plt.plot()\n",
    "plt.savefig('/home/sandip/code/GA/data_files/plot.png')\n",
    "plt.show()\n"
   ]
  },
  {
   "cell_type": "code",
   "execution_count": 110,
   "metadata": {},
   "outputs": [
    {
     "name": "stdout",
     "output_type": "stream",
     "text": [
      "[[0 1]\n",
      " [2 3]]\n",
      "[[4 5]\n",
      " [6 7]]\n",
      "[[0 1 4 5]\n",
      " [2 3 6 7]]\n",
      "[[0 1]\n",
      " [2 3]\n",
      " [4 5]\n",
      " [6 7]]\n"
     ]
    }
   ],
   "source": [
    "a1 = np.arange(4).reshape((2,2))\n",
    "a2 = np.arange(4,8).reshape((2,2))\n",
    "print a1\n",
    "print a2\n",
    "a3 = np.hstack((a1, a2)) # joining columns\n",
    "print a3\n",
    "a3 = np.vstack((a1, a2)) # adding rows\n",
    "print a3"
   ]
  }
 ],
 "metadata": {
  "kernelspec": {
   "display_name": "Python 2",
   "language": "python",
   "name": "python2"
  },
  "language_info": {
   "codemirror_mode": {
    "name": "ipython",
    "version": 2
   },
   "file_extension": ".py",
   "mimetype": "text/x-python",
   "name": "python",
   "nbconvert_exporter": "python",
   "pygments_lexer": "ipython2",
   "version": "2.7.13"
  }
 },
 "nbformat": 4,
 "nbformat_minor": 2
}
